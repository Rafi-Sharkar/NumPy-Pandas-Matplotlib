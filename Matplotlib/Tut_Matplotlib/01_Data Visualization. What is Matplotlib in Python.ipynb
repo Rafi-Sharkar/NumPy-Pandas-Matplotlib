{
 "cells": [
  {
   "cell_type": "markdown",
   "id": "0f609e82",
   "metadata": {},
   "source": [
    "# Data visualization is a quick, easy way to convey concepts in a universal manner"
   ]
  },
  {
   "cell_type": "markdown",
   "id": "5d8ec20b",
   "metadata": {},
   "source": [
    "# -- Data visualization is the graphical representation of information and data.\n",
    "\n",
    "### -- Visual elements like charts, graphs and maps. Data visulaization tools provide an accessible way to see and understand trends, outliers and patterns in data"
   ]
  },
  {
   "cell_type": "markdown",
   "id": "b9c97ced",
   "metadata": {},
   "source": [
    "### Plotting Libraries:\n",
    "#### Matplotlib: low level, provides lots of freedom\n",
    "#### Pandas visualization: Easy to use interface, built on Matplotlib\n",
    "#### Seaborn: High-level interface, great default styles\n",
    "#### ggplot: Based on R's ggplot2, uses Grammar of Graphics\n",
    "#### Plotlly: Can create interactive plots"
   ]
  },
  {
   "cell_type": "markdown",
   "id": "dba258e6",
   "metadata": {},
   "source": [
    "# Matplotlib"
   ]
  },
  {
   "cell_type": "markdown",
   "id": "dee63e26",
   "metadata": {},
   "source": [
    "### -- Matplotlib is a plotting library for the python           programming language and its numerical mathematics extension NumPy.\n",
    "### -- Matplotlib is a python library used for Data Visualization.\n",
    "### -- Matplotlib is 2D and 3D plotting python library\n",
    "### -- It was introduced by John Hunter in 2002"
   ]
  },
  {
   "cell_type": "markdown",
   "id": "38ac62ca",
   "metadata": {},
   "source": [
    "# Matplotlib Graphs\n",
    "\n",
    "##### Linear Plot\n",
    "#####  Scatter plot\n",
    "#####  Bar plot\n",
    "#####  Stem plot\n",
    "#####  Step plot\n",
    "#####  Hist plot\n",
    "#####  Box plot\n",
    "#####  Pie plot\n",
    "#####  Fill_Between plot\n"
   ]
  },
  {
   "cell_type": "code",
   "execution_count": 2,
   "id": "6cf7db21",
   "metadata": {},
   "outputs": [],
   "source": [
    "from matplotlib import pyplot as plt"
   ]
  }
 ],
 "metadata": {
  "kernelspec": {
   "display_name": "Python 3 (ipykernel)",
   "language": "python",
   "name": "python3"
  },
  "language_info": {
   "codemirror_mode": {
    "name": "ipython",
    "version": 3
   },
   "file_extension": ".py",
   "mimetype": "text/x-python",
   "name": "python",
   "nbconvert_exporter": "python",
   "pygments_lexer": "ipython3",
   "version": "3.10.1"
  }
 },
 "nbformat": 4,
 "nbformat_minor": 5
}
