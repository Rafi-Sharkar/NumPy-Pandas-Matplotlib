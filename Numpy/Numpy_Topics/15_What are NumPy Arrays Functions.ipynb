{
 "cells": [
  {
   "cell_type": "markdown",
   "id": "b2b611da",
   "metadata": {},
   "source": [
    "# Search, Sort, Search Sorted, Filter"
   ]
  },
  {
   "cell_type": "markdown",
   "id": "48a35f93",
   "metadata": {},
   "source": [
    "### Search Array: Search an array for a certain value, and return the indexes that get a match."
   ]
  },
  {
   "cell_type": "code",
   "execution_count": 1,
   "id": "eaf25bb6",
   "metadata": {},
   "outputs": [],
   "source": [
    "import numpy as np"
   ]
  },
  {
   "cell_type": "code",
   "execution_count": 3,
   "id": "5bfe4c05",
   "metadata": {},
   "outputs": [
    {
     "name": "stdout",
     "output_type": "stream",
     "text": [
      "(array([1, 5], dtype=int64),)\n"
     ]
    }
   ],
   "source": [
    "a = np.array([1,2,3,4,5,2,3,4,6])\n",
    "#             0,1,2,3,4,5,6,7,8\n",
    "x = np.where(a == 2)\n",
    "\n",
    "print(x)"
   ]
  },
  {
   "cell_type": "markdown",
   "id": "939a00f8",
   "metadata": {},
   "source": [
    "### Search Sorted Array: Which performs a binary search in the array, and returns the index where the specified value would be inserted to maintain the search order"
   ]
  },
  {
   "cell_type": "code",
   "execution_count": 7,
   "id": "44e98993",
   "metadata": {},
   "outputs": [
    {
     "name": "stdout",
     "output_type": "stream",
     "text": [
      "4\n",
      "[5 7 1]\n"
     ]
    }
   ],
   "source": [
    "b = np.array([1,2,3,4,5,6,7,8,9])\n",
    "#             0,1,2,3,4,5,6,7,8\n",
    "x1 = np.searchsorted(b, 5)   # where the number 5 can be seat(L->R)\n",
    "x2 = np.searchsorted(b, [5,7,1], side='right')   # where the number 5 can be seat(L->R)\n",
    "\n",
    "print(x1)\n",
    "print(x2)"
   ]
  },
  {
   "cell_type": "markdown",
   "id": "92b8b02f",
   "metadata": {},
   "source": [
    "### Sort Array: Ordered sequence is any sequence that has an order corresponding to elements, like numeric or alphabetical, ascending or descending"
   ]
  },
  {
   "cell_type": "code",
   "execution_count": 10,
   "id": "f292b321",
   "metadata": {},
   "outputs": [
    {
     "name": "stdout",
     "output_type": "stream",
     "text": [
      "[-9  3  8 11 15 21 26 37 40]\n",
      "['a' 'f' 'i' 'r']\n"
     ]
    }
   ],
   "source": [
    "c = np.array([11,21,3,40,15,26,37,8,-9])\n",
    "#             0,1,2,3,4,5,6,7,8\n",
    "\n",
    "d = np.array(['r','a','f','i'])\n",
    "\n",
    "x_s = np.sort(c)\n",
    "x_ss = np.sort(d)\n",
    "\n",
    "print(x_s)\n",
    "print(x_ss)"
   ]
  },
  {
   "cell_type": "markdown",
   "id": "37768075",
   "metadata": {},
   "source": [
    "### Filter Array: Getting some elements out of an existing array and creating a new array out of them"
   ]
  },
  {
   "cell_type": "code",
   "execution_count": 12,
   "id": "1131e3a6",
   "metadata": {},
   "outputs": [
    {
     "name": "stdout",
     "output_type": "stream",
     "text": [
      "['r' 'i']\n"
     ]
    }
   ],
   "source": [
    "e = np.array(['r','a','f','i'])\n",
    "\n",
    "f = [True, False, False, True]\n",
    "\n",
    "na = e[f]\n",
    "\n",
    "print(na)"
   ]
  },
  {
   "cell_type": "markdown",
   "id": "4d4ebb77",
   "metadata": {},
   "source": [
    "# Shuffle, Unique, Resize, Flatten, Ravel"
   ]
  },
  {
   "cell_type": "markdown",
   "id": "ff3844d9",
   "metadata": {},
   "source": [
    "### Shuffle"
   ]
  },
  {
   "cell_type": "code",
   "execution_count": 18,
   "id": "f5c03067",
   "metadata": {},
   "outputs": [
    {
     "name": "stdout",
     "output_type": "stream",
     "text": [
      "[5 6 1 4 3 2]\n"
     ]
    }
   ],
   "source": [
    "x1 = np.array([1,2,3,4,5,6])\n",
    "\n",
    "np.random.shuffle(x1)\n",
    "\n",
    "print(x1)"
   ]
  },
  {
   "cell_type": "markdown",
   "id": "b29f9604",
   "metadata": {},
   "source": [
    "### Unique"
   ]
  },
  {
   "cell_type": "code",
   "execution_count": 23,
   "id": "8280a5d1",
   "metadata": {},
   "outputs": [
    {
     "name": "stdout",
     "output_type": "stream",
     "text": [
      "(array([1, 2, 3, 4, 5, 6]), array([0, 1, 2, 4, 9, 3], dtype=int64), array([3, 4, 2, 3, 2, 2], dtype=int64))\n"
     ]
    }
   ],
   "source": [
    "x2 = np.array([1,2,3,6,4,2,1,3,4,5,6,5,4,2,2,1])\n",
    "\n",
    "o = np.unique(x2, return_index = True, return_counts = True)\n",
    "\n",
    "print(o)"
   ]
  },
  {
   "cell_type": "markdown",
   "id": "841c1e34",
   "metadata": {},
   "source": [
    "### Resize"
   ]
  },
  {
   "cell_type": "code",
   "execution_count": 29,
   "id": "4e4056dc",
   "metadata": {},
   "outputs": [
    {
     "name": "stdout",
     "output_type": "stream",
     "text": [
      "[[1 2 3]\n",
      " [4 5 6]\n",
      " [7 1 2]]\n",
      "\n",
      "[[0 1 0]\n",
      " [1 0 1]\n",
      " [0 1 0]]\n"
     ]
    }
   ],
   "source": [
    "x3 = np.array([1,2,3,4,5,6,7])\n",
    "x4 = np.array([0,1])\n",
    "\n",
    "y = np.resize(x3, (3,3))\n",
    "y1 = np.resize(x4, (3,3))\n",
    "\n",
    "print(y)\n",
    "print()\n",
    "print(y1)"
   ]
  },
  {
   "cell_type": "markdown",
   "id": "4aa8209d",
   "metadata": {},
   "source": [
    "### Flatten & Ravel"
   ]
  },
  {
   "cell_type": "code",
   "execution_count": 37,
   "id": "24ce16e4",
   "metadata": {},
   "outputs": [
    {
     "name": "stdout",
     "output_type": "stream",
     "text": [
      "[[1 2 3]\n",
      " [4 5 6]\n",
      " [7 1 2]]\n",
      "\n",
      "Flatten:  [1 4 7 2 5 1 3 6 2]\n",
      "Ravel:  [1 4 7 2 5 1 3 6 2]\n"
     ]
    }
   ],
   "source": [
    "x5 = np.array([1,2,3,4,5,6,7])\n",
    "y2 = np.resize(x3, (3,3))\n",
    "print(y2)\n",
    "print()\n",
    "print(\"Flatten: \",y2.flatten(order='F'))\n",
    "print(\"Ravel: \",np.ravel(y2,order='F') )\n",
    "\n"
   ]
  }
 ],
 "metadata": {
  "kernelspec": {
   "display_name": "Python 3 (ipykernel)",
   "language": "python",
   "name": "python3"
  },
  "language_info": {
   "codemirror_mode": {
    "name": "ipython",
    "version": 3
   },
   "file_extension": ".py",
   "mimetype": "text/x-python",
   "name": "python",
   "nbconvert_exporter": "python",
   "pygments_lexer": "ipython3",
   "version": "3.10.1"
  }
 },
 "nbformat": 4,
 "nbformat_minor": 5
}
