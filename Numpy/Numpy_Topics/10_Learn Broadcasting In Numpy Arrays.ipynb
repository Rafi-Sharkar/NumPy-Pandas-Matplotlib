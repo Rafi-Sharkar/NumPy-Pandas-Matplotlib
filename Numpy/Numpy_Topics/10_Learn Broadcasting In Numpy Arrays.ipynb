{
 "cells": [
  {
   "cell_type": "markdown",
   "id": "fb9fe709",
   "metadata": {},
   "source": [
    "# Broadcasting"
   ]
  },
  {
   "cell_type": "code",
   "execution_count": 2,
   "id": "9f536a80",
   "metadata": {},
   "outputs": [],
   "source": [
    "import numpy as np"
   ]
  },
  {
   "cell_type": "code",
   "execution_count": 3,
   "id": "e0031f75",
   "metadata": {},
   "outputs": [
    {
     "ename": "ValueError",
     "evalue": "operands could not be broadcast together with shapes (4,) (3,) ",
     "output_type": "error",
     "traceback": [
      "\u001b[1;31m---------------------------------------------------------------------------\u001b[0m",
      "\u001b[1;31mValueError\u001b[0m                                Traceback (most recent call last)",
      "Cell \u001b[1;32mIn[3], line 5\u001b[0m\n\u001b[0;32m      1\u001b[0m var1 \u001b[38;5;241m=\u001b[39m np\u001b[38;5;241m.\u001b[39marray([\u001b[38;5;241m1\u001b[39m,\u001b[38;5;241m2\u001b[39m,\u001b[38;5;241m3\u001b[39m,\u001b[38;5;241m4\u001b[39m])\n\u001b[0;32m      3\u001b[0m var2 \u001b[38;5;241m=\u001b[39m np\u001b[38;5;241m.\u001b[39marray([\u001b[38;5;241m2\u001b[39m,\u001b[38;5;241m3\u001b[39m,\u001b[38;5;241m4\u001b[39m])\n\u001b[1;32m----> 5\u001b[0m \u001b[38;5;28mprint\u001b[39m(\u001b[43mvar1\u001b[49m\u001b[43m \u001b[49m\u001b[38;5;241;43m+\u001b[39;49m\u001b[43m \u001b[49m\u001b[43mvar2\u001b[49m)\n",
      "\u001b[1;31mValueError\u001b[0m: operands could not be broadcast together with shapes (4,) (3,) "
     ]
    }
   ],
   "source": [
    "var1 = np.array([1,2,3,4])\n",
    "\n",
    "var2 = np.array([2,3,4])\n",
    "\n",
    "print(var1 + var2)\n"
   ]
  },
  {
   "cell_type": "code",
   "execution_count": 17,
   "id": "4577650e",
   "metadata": {},
   "outputs": [
    {
     "name": "stdout",
     "output_type": "stream",
     "text": [
      "[1 2 3]\n",
      "(3,)\n",
      "1\n",
      "\n",
      "[[1]\n",
      " [2]\n",
      " [3]]\n",
      "(3, 1)\n",
      "2\n",
      "\n",
      "[[1 2]\n",
      " [2 4]\n",
      " [3 7]]\n",
      "(3, 2)\n",
      "2\n",
      "\n",
      "[[2 3 4]\n",
      " [3 4 5]\n",
      " [4 5 6]]\n",
      "(3, 3)\n",
      "2\n"
     ]
    }
   ],
   "source": [
    "var3 = np.array([1,2,3])\n",
    "print(var3)\n",
    "print(var3.shape)\n",
    "print(var3.ndim)\n",
    "print()\n",
    "\n",
    "var4 = np.array([[1],[2],[3]])\n",
    "print(var4)\n",
    "print(var4.shape)\n",
    "print(var4.ndim)\n",
    "print()\n",
    "\n",
    "var5 = np.array([[1,2],[2,4],[3,7]])\n",
    "print(var5)\n",
    "print(var5.shape)\n",
    "print(var5.ndim)\n",
    "print()\n",
    "\n",
    "print(var3 + var4)\n",
    "print((var3 + var4).shape)\n",
    "print((var3 + var4).ndim)"
   ]
  },
  {
   "cell_type": "code",
   "execution_count": 23,
   "id": "6b48ef95",
   "metadata": {},
   "outputs": [
    {
     "name": "stdout",
     "output_type": "stream",
     "text": [
      "[[1]\n",
      " [2]]\n",
      "(2, 1)\n",
      "2\n",
      "\n",
      "[[1 2 3]\n",
      " [1 2 3]]\n",
      "(2, 3)\n",
      "2\n",
      "\n",
      "[[2 3 4]\n",
      " [3 4 5]]\n"
     ]
    }
   ],
   "source": [
    "x = np.array([[1],[2]])\n",
    "print(x)\n",
    "print(x.shape)\n",
    "print(x.ndim)\n",
    "print()\n",
    "\n",
    "y = np.array([[1,2,3],[1,2,3]])\n",
    "print(y)\n",
    "print(y.shape)\n",
    "print(y.ndim)\n",
    "print()\n",
    "\n",
    "\n",
    "print(x+y)"
   ]
  }
 ],
 "metadata": {
  "kernelspec": {
   "display_name": "Python 3 (ipykernel)",
   "language": "python",
   "name": "python3"
  },
  "language_info": {
   "codemirror_mode": {
    "name": "ipython",
    "version": 3
   },
   "file_extension": ".py",
   "mimetype": "text/x-python",
   "name": "python",
   "nbconvert_exporter": "python",
   "pygments_lexer": "ipython3",
   "version": "3.10.1"
  }
 },
 "nbformat": 4,
 "nbformat_minor": 5
}
