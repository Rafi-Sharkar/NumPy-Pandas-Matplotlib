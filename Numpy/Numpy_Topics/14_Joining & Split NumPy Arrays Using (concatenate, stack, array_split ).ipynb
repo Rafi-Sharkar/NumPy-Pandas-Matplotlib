{
 "cells": [
  {
   "cell_type": "markdown",
   "id": "f5844e87",
   "metadata": {},
   "source": [
    "# Join & Split"
   ]
  },
  {
   "cell_type": "markdown",
   "id": "f168192b",
   "metadata": {},
   "source": [
    "### Join Array: Joining means putting contents of two or more arrays in a single array."
   ]
  },
  {
   "cell_type": "code",
   "execution_count": 2,
   "id": "ae76683c",
   "metadata": {},
   "outputs": [],
   "source": [
    "import numpy as np"
   ]
  },
  {
   "cell_type": "code",
   "execution_count": 3,
   "id": "2bdd39f5",
   "metadata": {},
   "outputs": [
    {
     "name": "stdout",
     "output_type": "stream",
     "text": [
      "[1 2 3 4 5 6 7 8]\n"
     ]
    }
   ],
   "source": [
    "x = np.array([1,2,3,4])\n",
    "y = np.array([5,6,7,8])\n",
    "\n",
    "ar = np.concatenate((x,y))\n",
    "print(ar)"
   ]
  },
  {
   "cell_type": "code",
   "execution_count": 4,
   "id": "372d9542",
   "metadata": {},
   "outputs": [
    {
     "name": "stdout",
     "output_type": "stream",
     "text": [
      "[[1 2]\n",
      " [3 4]\n",
      " [5 6]\n",
      " [7 8]]\n"
     ]
    }
   ],
   "source": [
    "a = np.array([[1,2],[3,4]])\n",
    "b = np.array([[5,6],[7,8]])\n",
    "\n",
    "ar1 = np.concatenate((a,b), axis = 0)\n",
    "print(ar1)"
   ]
  },
  {
   "cell_type": "markdown",
   "id": "6ce0ea31",
   "metadata": {},
   "source": [
    "### Stack"
   ]
  },
  {
   "cell_type": "code",
   "execution_count": 5,
   "id": "03b23c42",
   "metadata": {},
   "outputs": [
    {
     "name": "stdout",
     "output_type": "stream",
     "text": [
      "[1 2 3 4 5 6 7 8]\n",
      "[[1 2 3 4]\n",
      " [5 6 7 8]]\n",
      "[[[1 5]\n",
      "  [2 6]\n",
      "  [3 7]\n",
      "  [4 8]]]\n"
     ]
    }
   ],
   "source": [
    "a1 = np.array([1,2,3,4])\n",
    "b2 = np.array([5,6,7,8])\n",
    "\n",
    "ar2 = np.hstack((a1,b2))  # work to row\n",
    "ar3 = np.vstack((a1,b2))  # work to column\n",
    "ar4 = np.dstack((a1,b2))  # work to hight\n",
    "\n",
    "print(ar2)\n",
    "print(ar3)\n",
    "print(ar4)"
   ]
  },
  {
   "cell_type": "markdown",
   "id": "334d30e8",
   "metadata": {},
   "source": [
    "### Split "
   ]
  },
  {
   "cell_type": "code",
   "execution_count": 9,
   "id": "50a17bda",
   "metadata": {},
   "outputs": [
    {
     "name": "stdout",
     "output_type": "stream",
     "text": [
      "[1 2 3 4 5 6]\n",
      "[array([1, 2]), array([3, 4]), array([5, 6])]\n",
      "<class 'list'>\n"
     ]
    }
   ],
   "source": [
    "o = np.array([1,2,3,4,5,6])\n",
    "print(o)\n",
    "arr = np.array_split(o,3)\n",
    "print(arr)\n",
    "print(type(arr))\n",
    "\n"
   ]
  },
  {
   "cell_type": "code",
   "execution_count": 14,
   "id": "96567429",
   "metadata": {},
   "outputs": [
    {
     "name": "stdout",
     "output_type": "stream",
     "text": [
      "[[1 2]\n",
      " [3 4]\n",
      " [5 6]]\n",
      "[array([[1, 2]]), array([[3, 4]]), array([[5, 6]])]\n",
      "[array([[1],\n",
      "       [3],\n",
      "       [5]]), array([[2],\n",
      "       [4],\n",
      "       [6]]), array([], shape=(3, 0), dtype=int32)]\n",
      "<class 'list'>\n"
     ]
    }
   ],
   "source": [
    "p = np.array([[1,2],[3,4],[5,6]])\n",
    "print(p)\n",
    "arr1 = np.array_split(p,3)\n",
    "arr2 = np.array_split(p,3, axis = 1)\n",
    "\n",
    "print(arr1)\n",
    "print(arr2)\n",
    "print(type(arr))"
   ]
  }
 ],
 "metadata": {
  "kernelspec": {
   "display_name": "Python 3 (ipykernel)",
   "language": "python",
   "name": "python3"
  },
  "language_info": {
   "codemirror_mode": {
    "name": "ipython",
    "version": 3
   },
   "file_extension": ".py",
   "mimetype": "text/x-python",
   "name": "python",
   "nbconvert_exporter": "python",
   "pygments_lexer": "ipython3",
   "version": "3.10.1"
  }
 },
 "nbformat": 4,
 "nbformat_minor": 5
}
