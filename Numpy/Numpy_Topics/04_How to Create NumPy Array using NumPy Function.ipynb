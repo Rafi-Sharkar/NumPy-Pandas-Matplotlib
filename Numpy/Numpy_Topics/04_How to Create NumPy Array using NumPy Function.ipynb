{
 "cells": [
  {
   "cell_type": "markdown",
   "id": "efcf57d4",
   "metadata": {},
   "source": [
    "# ---Spacial NumPy Array---"
   ]
  },
  {
   "cell_type": "markdown",
   "id": "ab2245cd",
   "metadata": {},
   "source": [
    "### Array filled with 0's"
   ]
  },
  {
   "cell_type": "code",
   "execution_count": 2,
   "id": "a28742d3",
   "metadata": {},
   "outputs": [],
   "source": [
    "import numpy as np"
   ]
  },
  {
   "cell_type": "code",
   "execution_count": 13,
   "id": "511bf64b",
   "metadata": {},
   "outputs": [
    {
     "name": "stdout",
     "output_type": "stream",
     "text": [
      "[0. 0. 0. 0.] \n",
      "\n",
      "[[0. 0. 0. 0.]\n",
      " [0. 0. 0. 0.]\n",
      " [0. 0. 0. 0.]]\n"
     ]
    }
   ],
   "source": [
    "ar_zero = np.zeros(4)\n",
    "ar_zero1 = np.zeros((3,4))\n",
    "\n",
    "print(ar_zero,\"\\n\")\n",
    "print(ar_zero1)"
   ]
  },
  {
   "cell_type": "markdown",
   "id": "103ed3e4",
   "metadata": {},
   "source": [
    "### Array filled with 1's"
   ]
  },
  {
   "cell_type": "code",
   "execution_count": 18,
   "id": "0d75b09d",
   "metadata": {},
   "outputs": [
    {
     "name": "stdout",
     "output_type": "stream",
     "text": [
      "[1. 1. 1. 1.] \n",
      "\n",
      "[[1. 1. 1. 1. 1.]\n",
      " [1. 1. 1. 1. 1.]]\n"
     ]
    }
   ],
   "source": [
    "ar_one = np.ones(4)\n",
    "ar_one1 = np.ones((2, 5))\n",
    "\n",
    "print(ar_one,\"\\n\")\n",
    "print(ar_one1)"
   ]
  },
  {
   "cell_type": "markdown",
   "id": "178aafd7",
   "metadata": {},
   "source": [
    "### Create an empty array"
   ]
  },
  {
   "cell_type": "code",
   "execution_count": 20,
   "id": "73b0d260",
   "metadata": {},
   "outputs": [
    {
     "name": "stdout",
     "output_type": "stream",
     "text": [
      "[1. 1. 1. 1.]\n"
     ]
    }
   ],
   "source": [
    "ar_em = np.empty(4)\n",
    "\n",
    "print(ar_em)"
   ]
  },
  {
   "cell_type": "markdown",
   "id": "33c86a76",
   "metadata": {},
   "source": [
    "### An array with a range of elements"
   ]
  },
  {
   "cell_type": "code",
   "execution_count": 22,
   "id": "93943831",
   "metadata": {},
   "outputs": [
    {
     "name": "stdout",
     "output_type": "stream",
     "text": [
      "[0 1 2 3]\n"
     ]
    }
   ],
   "source": [
    "ar_rn = np.arange(4)\n",
    "\n",
    "print(ar_rn)"
   ]
  },
  {
   "cell_type": "markdown",
   "id": "da71c3f5",
   "metadata": {},
   "source": [
    "### Array diagonal element filled with 1's "
   ]
  },
  {
   "cell_type": "code",
   "execution_count": 27,
   "id": "e615d547",
   "metadata": {},
   "outputs": [
    {
     "name": "stdout",
     "output_type": "stream",
     "text": [
      "[[1. 0. 0.]\n",
      " [0. 1. 0.]\n",
      " [0. 0. 1.]] \n",
      "\n",
      "[[1. 0. 0. 0. 0.]\n",
      " [0. 1. 0. 0. 0.]\n",
      " [0. 0. 1. 0. 0.]]\n"
     ]
    }
   ],
   "source": [
    "ar_dia = np.eye(3)\n",
    "ar_dia1 = np.eye(3,5)\n",
    "\n",
    "print(ar_dia,\"\\n\")\n",
    "print(ar_dia1)"
   ]
  },
  {
   "cell_type": "markdown",
   "id": "a2a098d1",
   "metadata": {},
   "source": [
    "### Create an array with values that are spaced linearly in a spacified interval "
   ]
  },
  {
   "cell_type": "code",
   "execution_count": 29,
   "id": "de1ef9bd",
   "metadata": {},
   "outputs": [
    {
     "name": "stdout",
     "output_type": "stream",
     "text": [
      "[ 1.    3.25  5.5   7.75 10.  ]\n"
     ]
    }
   ],
   "source": [
    "ar_lin = np.linspace(1,10, num = 5)\n",
    "\n",
    "print(ar_lin)"
   ]
  }
 ],
 "metadata": {
  "kernelspec": {
   "display_name": "Python 3 (ipykernel)",
   "language": "python",
   "name": "python3"
  },
  "language_info": {
   "codemirror_mode": {
    "name": "ipython",
    "version": 3
   },
   "file_extension": ".py",
   "mimetype": "text/x-python",
   "name": "python",
   "nbconvert_exporter": "python",
   "pygments_lexer": "ipython3",
   "version": "3.10.1"
  }
 },
 "nbformat": 4,
 "nbformat_minor": 5
}
