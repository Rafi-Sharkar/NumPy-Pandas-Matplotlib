{
 "cells": [
  {
   "cell_type": "markdown",
   "id": "aac59e37",
   "metadata": {},
   "source": [
    "## Array"
   ]
  },
  {
   "cell_type": "code",
   "execution_count": 22,
   "id": "dabbaa3f",
   "metadata": {},
   "outputs": [
    {
     "name": "stdout",
     "output_type": "stream",
     "text": [
      "[1 2 3 4]\n",
      "<class 'numpy.ndarray'>\n"
     ]
    }
   ],
   "source": [
    "import numpy as np\n",
    "\n",
    "x = [1,2,3,4] \n",
    "\n",
    "y = np.array(x)\n",
    "\n",
    "print(y)\n",
    "print(type(y))"
   ]
  },
  {
   "cell_type": "code",
   "execution_count": 23,
   "id": "2c91dad7",
   "metadata": {},
   "outputs": [
    {
     "name": "stdout",
     "output_type": "stream",
     "text": [
      "Enter: 3\n",
      "Enter: 5\n",
      "Enter: 7\n",
      "Enter: 3\n",
      "['3', '5', '7', '3']\n",
      "['3' '5' '7' '3']\n"
     ]
    }
   ],
   "source": [
    "l = []\n",
    "\n",
    "for i in range(1, 5):\n",
    "    int_1 = input(\"Enter: \")\n",
    "    l.append(int_1)\n",
    "print(l)  #list element are separeted by (,) or comma\n",
    "print(np.array(l))   #list element are separeted by ( ) space"
   ]
  },
  {
   "cell_type": "markdown",
   "id": "ca2652ca",
   "metadata": {},
   "source": [
    "## ---Dimensions in Arrays---"
   ]
  },
  {
   "cell_type": "markdown",
   "id": "f03f8e55",
   "metadata": {},
   "source": [
    "### 1-D Array"
   ]
  },
  {
   "cell_type": "code",
   "execution_count": 36,
   "id": "a335b9ce",
   "metadata": {},
   "outputs": [
    {
     "name": "stdout",
     "output_type": "stream",
     "text": [
      "Dimention of [1 2 3 4 5] is 1\n"
     ]
    }
   ],
   "source": [
    "x = np.array([1,2,3,4,5])\n",
    "\n",
    "print(f\"Dimention of {x} is {x.ndim}\")"
   ]
  },
  {
   "cell_type": "markdown",
   "id": "7fb2f456",
   "metadata": {},
   "source": [
    "### 2-D Array"
   ]
  },
  {
   "cell_type": "code",
   "execution_count": 44,
   "id": "0757eab8",
   "metadata": {},
   "outputs": [
    {
     "name": "stdout",
     "output_type": "stream",
     "text": [
      "Dimention of \n",
      "[[1 2 3]\n",
      " [4 5 6]\n",
      " [7 8 9]] is 2\n"
     ]
    }
   ],
   "source": [
    "y = np.array([[1,2,3],[4,5,6],[7,8,9]])\n",
    "\n",
    "print(f\"Dimention of \\n{y} is {y.ndim}\")"
   ]
  },
  {
   "cell_type": "markdown",
   "id": "a9cc4a8e",
   "metadata": {},
   "source": [
    "### 3-D Array "
   ]
  },
  {
   "cell_type": "code",
   "execution_count": 59,
   "id": "b5393ade",
   "metadata": {},
   "outputs": [
    {
     "name": "stdout",
     "output_type": "stream",
     "text": [
      "Dimention of \n",
      "[[[1 2 3]\n",
      "  [4 5 6]\n",
      "  [7 8 9]]] is 3\n"
     ]
    }
   ],
   "source": [
    "z = np.array([[[1,2,3],[4,5,6],[7,8,9]]])\n",
    "\n",
    "print(f\"Dimention of \\n{z} is {z.ndim}\")"
   ]
  },
  {
   "cell_type": "markdown",
   "id": "93425bbb",
   "metadata": {},
   "source": [
    "### n-D Array"
   ]
  },
  {
   "cell_type": "code",
   "execution_count": 60,
   "id": "11e25b86",
   "metadata": {},
   "outputs": [
    {
     "name": "stdout",
     "output_type": "stream",
     "text": [
      "[[[[[[[[[[1 2 3 4]]]]]]]]]]\n",
      "10\n"
     ]
    }
   ],
   "source": [
    "n = np.array([1,2,3,4], ndmin = 10)\n",
    "print(n)\n",
    "print(n.ndim)"
   ]
  }
 ],
 "metadata": {
  "kernelspec": {
   "display_name": "Python 3 (ipykernel)",
   "language": "python",
   "name": "python3"
  },
  "language_info": {
   "codemirror_mode": {
    "name": "ipython",
    "version": 3
   },
   "file_extension": ".py",
   "mimetype": "text/x-python",
   "name": "python",
   "nbconvert_exporter": "python",
   "pygments_lexer": "ipython3",
   "version": "3.10.1"
  }
 },
 "nbformat": 4,
 "nbformat_minor": 5
}
