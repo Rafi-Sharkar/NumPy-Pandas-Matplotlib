{
 "cells": [
  {
   "cell_type": "markdown",
   "id": "01c03588",
   "metadata": {},
   "source": [
    "# Matrix in NumPy Array"
   ]
  },
  {
   "cell_type": "markdown",
   "id": "cb24156e",
   "metadata": {},
   "source": [
    "### Create matrix "
   ]
  },
  {
   "cell_type": "code",
   "execution_count": 2,
   "id": "4956e8cd",
   "metadata": {},
   "outputs": [],
   "source": [
    "import numpy as np"
   ]
  },
  {
   "cell_type": "code",
   "execution_count": 9,
   "id": "85a07afc",
   "metadata": {},
   "outputs": [
    {
     "name": "stdout",
     "output_type": "stream",
     "text": [
      "Matrix:  [[1 2 3]\n",
      " [4 5 6]]\n",
      "<class 'numpy.matrix'>\n"
     ]
    }
   ],
   "source": [
    "var = np.matrix([[1,2,3],[4,5,6]])\n",
    "\n",
    "print(\"Matrix: \",var)\n",
    "print(type(var))"
   ]
  },
  {
   "cell_type": "code",
   "execution_count": 10,
   "id": "1d92fbfa",
   "metadata": {},
   "outputs": [
    {
     "name": "stdout",
     "output_type": "stream",
     "text": [
      "Array:  [[1 2 3]\n",
      " [4 5 6]]\n",
      "<class 'numpy.ndarray'>\n"
     ]
    }
   ],
   "source": [
    "var1 = np.array([[1,2,3],[4,5,6]])\n",
    "\n",
    "print(\"Array: \",var1)\n",
    "print(type(var1))"
   ]
  },
  {
   "cell_type": "markdown",
   "id": "4c7b04ff",
   "metadata": {},
   "source": [
    "## Arithmetic operation in matrix"
   ]
  },
  {
   "cell_type": "code",
   "execution_count": 18,
   "id": "c929d167",
   "metadata": {},
   "outputs": [
    {
     "name": "stdout",
     "output_type": "stream",
     "text": [
      "add: \n",
      " [[ 2  4  6]\n",
      " [ 8 10 12]\n",
      " [14 16 18]]\n",
      "sub: \n",
      " [[0 0 0]\n",
      " [0 0 0]\n",
      " [0 0 0]]\n",
      "mul: \n",
      " [[ 30  36  42]\n",
      " [ 66  81  96]\n",
      " [102 126 150]]\n",
      "[[ 30  36  42]\n",
      " [ 66  81  96]\n",
      " [102 126 150]]\n"
     ]
    }
   ],
   "source": [
    "x = np.matrix([[1,2,3],[4,5,6],[7,8,9]])\n",
    "y = np.matrix([[1,2,3],[4,5,6],[7,8,9]])\n",
    "\n",
    "print(\"add: \\n\", x+y)\n",
    "print(\"sub: \\n\", x-y)\n",
    "print(\"mul: \\n\", x*y)  # is called dot multiplication\n",
    "print(x.dot(y))\n",
    "\n"
   ]
  },
  {
   "cell_type": "markdown",
   "id": "22a67656",
   "metadata": {},
   "source": [
    "## Matrix Function in Numpy"
   ]
  },
  {
   "cell_type": "markdown",
   "id": "cf640e0e",
   "metadata": {},
   "source": [
    "### * Transpose\n",
    "### * Swapaxes\n",
    "### * Inverse\n",
    "### * Power\n",
    "### * Determinate"
   ]
  },
  {
   "cell_type": "code",
   "execution_count": 38,
   "id": "98fb3c85",
   "metadata": {},
   "outputs": [
    {
     "name": "stdout",
     "output_type": "stream",
     "text": [
      "[[1 2 3]\n",
      " [4 5 6]\n",
      " [7 8 9]]\n",
      "\n",
      "[[1 4 7]\n",
      " [2 5 8]\n",
      " [3 6 9]]\n",
      "\n",
      "[[1 4 7]\n",
      " [2 5 8]\n",
      " [3 6 9]]\n",
      "\n",
      "[[1 4 7]\n",
      " [2 5 8]\n",
      " [3 6 9]]\n",
      "\n",
      "[[1 2]\n",
      " [3 4]]\n",
      "\n",
      "[[-2.   1. ]\n",
      " [ 1.5 -0.5]]\n"
     ]
    }
   ],
   "source": [
    "a = np.matrix([[1,2,3],[4,5,6],[7,8,9]])\n",
    "\n",
    "print(a)\n",
    "print()\n",
    "print(np.transpose(a))\n",
    "# or \n",
    "print()\n",
    "print(a.T)\n",
    "print()\n",
    "print(np.swapaxes(a,0,1))\n",
    "print()\n",
    "\n",
    "# inverse matrix\n",
    "b = np.matrix([[1,2],[3,4]])\n",
    "print(b)\n",
    "print()\n",
    "print(np.linalg.inv(b))\n",
    "\n",
    "# power matrix"
   ]
  },
  {
   "cell_type": "code",
   "execution_count": 39,
   "id": "dd94138c",
   "metadata": {},
   "outputs": [
    {
     "name": "stdout",
     "output_type": "stream",
     "text": [
      "[[1 2]\n",
      " [3 4]]\n",
      "\n",
      "[[ 7 10]\n",
      " [15 22]]\n",
      "\n",
      "[[1 0]\n",
      " [0 1]]\n",
      "\n",
      "[[-2.   1. ]\n",
      " [ 1.5 -0.5]]\n",
      "-2.0000000000000004\n"
     ]
    }
   ],
   "source": [
    "o = np.matrix([[1,2],[3,4]])\n",
    "print(o)\n",
    "print()\n",
    "print(np.linalg.matrix_power(o,2))\n",
    "print()\n",
    "print(np.linalg.matrix_power(o,0))\n",
    "print()\n",
    "print(np.linalg.matrix_power(o,-1))\n",
    "\n",
    "# determenate\n",
    "print(np.linalg.det(o))"
   ]
  },
  {
   "cell_type": "markdown",
   "id": "b55ede90",
   "metadata": {},
   "source": [
    "## Arithmetic operation in array"
   ]
  },
  {
   "cell_type": "code",
   "execution_count": 19,
   "id": "9bf81fca",
   "metadata": {},
   "outputs": [
    {
     "name": "stdout",
     "output_type": "stream",
     "text": [
      "add: \n",
      " [[ 2  4  6]\n",
      " [ 8 10 12]\n",
      " [14 16 18]]\n",
      "sub: \n",
      " [[0 0 0]\n",
      " [0 0 0]\n",
      " [0 0 0]]\n",
      "mul: \n",
      " [[ 1  4  9]\n",
      " [16 25 36]\n",
      " [49 64 81]]\n"
     ]
    }
   ],
   "source": [
    "x1 = np.array([[1,2,3],[4,5,6],[7,8,9]])\n",
    "y1 = np.array([[1,2,3],[4,5,6],[7,8,9]])\n",
    "\n",
    "print(\"add: \\n\", x1+y1)\n",
    "print(\"sub: \\n\", x1-y1)\n",
    "print(\"mul: \\n\", x1*y1)"
   ]
  }
 ],
 "metadata": {
  "kernelspec": {
   "display_name": "Python 3 (ipykernel)",
   "language": "python",
   "name": "python3"
  },
  "language_info": {
   "codemirror_mode": {
    "name": "ipython",
    "version": 3
   },
   "file_extension": ".py",
   "mimetype": "text/x-python",
   "name": "python",
   "nbconvert_exporter": "python",
   "pygments_lexer": "ipython3",
   "version": "3.10.1"
  }
 },
 "nbformat": 4,
 "nbformat_minor": 5
}
