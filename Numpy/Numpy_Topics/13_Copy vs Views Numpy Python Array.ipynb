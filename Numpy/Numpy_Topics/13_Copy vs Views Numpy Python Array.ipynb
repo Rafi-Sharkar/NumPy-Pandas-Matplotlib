{
 "cells": [
  {
   "cell_type": "markdown",
   "id": "89bb1383",
   "metadata": {},
   "source": [
    "# Copy & View"
   ]
  },
  {
   "cell_type": "code",
   "execution_count": 9,
   "id": "d41261ad",
   "metadata": {},
   "outputs": [],
   "source": [
    "import numpy as np"
   ]
  },
  {
   "cell_type": "markdown",
   "id": "fef8f45e",
   "metadata": {},
   "source": [
    "### Copy\n",
    "\n",
    "##### * The copy owns the data\n",
    "##### * The copy of an array is a new array\n",
    "##### * The changes made in the copy data does not reflect in the original array"
   ]
  },
  {
   "cell_type": "code",
   "execution_count": 18,
   "id": "18368a47",
   "metadata": {},
   "outputs": [
    {
     "name": "stdout",
     "output_type": "stream",
     "text": [
      "[ 1  2 13  4  4  5  7]\n",
      "[1 2 3 4 4 5 7]\n"
     ]
    }
   ],
   "source": [
    "x = np.array([1,2,3,4,4,5,7])\n",
    "\n",
    "cp = x.copy()\n",
    "\n",
    "x[2] = 13\n",
    "\n",
    "print(x)\n",
    "print(cp)"
   ]
  },
  {
   "cell_type": "markdown",
   "id": "b46bda10",
   "metadata": {},
   "source": [
    "### View\n",
    "\n",
    "##### * The view does not own the data\n",
    "##### * A view of the original array\n",
    "##### *Any changes made to theview will affect the original array,\n",
    "##### *And any changes made to the origin array afect the view"
   ]
  },
  {
   "cell_type": "code",
   "execution_count": 17,
   "id": "26475a94",
   "metadata": {},
   "outputs": [
    {
     "name": "stdout",
     "output_type": "stream",
     "text": [
      "[ 1  2 13  4  6  4  2]\n",
      "[ 1  2 13  4]\n"
     ]
    }
   ],
   "source": [
    "y = np.array([1,2,3,4,6,4,2])\n",
    "\n",
    "vi = x.view()\n",
    "\n",
    "y[2] = 13\n",
    "\n",
    "print(y)\n",
    "print(vi)"
   ]
  }
 ],
 "metadata": {
  "kernelspec": {
   "display_name": "Python 3 (ipykernel)",
   "language": "python",
   "name": "python3"
  },
  "language_info": {
   "codemirror_mode": {
    "name": "ipython",
    "version": 3
   },
   "file_extension": ".py",
   "mimetype": "text/x-python",
   "name": "python",
   "nbconvert_exporter": "python",
   "pygments_lexer": "ipython3",
   "version": "3.10.1"
  }
 },
 "nbformat": 4,
 "nbformat_minor": 5
}
