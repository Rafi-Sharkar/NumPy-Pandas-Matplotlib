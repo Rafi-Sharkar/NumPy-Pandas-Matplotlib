{
 "cells": [
  {
   "cell_type": "markdown",
   "id": "addcdc78",
   "metadata": {},
   "source": [
    "# Arithmetic Functions"
   ]
  },
  {
   "cell_type": "markdown",
   "id": "c6b67b55",
   "metadata": {},
   "source": [
    "#### np.min(x)\n",
    "#### np.max(x)\n",
    "#### np.argmin(x)\n",
    "#### np.sqrt(x)\n",
    "#### np.sin(x)\n",
    "#### np.cos(x)\n",
    "#### np.cumsum(x)"
   ]
  },
  {
   "cell_type": "code",
   "execution_count": 2,
   "id": "301b59f1",
   "metadata": {},
   "outputs": [],
   "source": [
    "import numpy as np"
   ]
  },
  {
   "cell_type": "code",
   "execution_count": 25,
   "id": "ae6eab08",
   "metadata": {},
   "outputs": [
    {
     "name": "stdout",
     "output_type": "stream",
     "text": [
      "[44 13 42 31 31 18 25 34 41  5]\n",
      "min:  5\n",
      "max:  44\n",
      "sqrt:  [6.63324958 3.60555128 6.4807407  5.56776436 5.56776436 4.24264069\n",
      " 5.         5.83095189 6.40312424 2.23606798]\n",
      "Sin:  [ 0.01770193  0.42016704 -0.91652155 -0.40403765 -0.40403765 -0.75098725\n",
      " -0.13235175  0.52908269 -0.15862267 -0.95892427]\n",
      "Cos:  [ 0.99984331  0.90744678 -0.39998531  0.91474236  0.91474236  0.66031671\n",
      "  0.99120281 -0.84857027 -0.98733928  0.28366219]\n",
      "cumSum:  [ 44  57  99 130 161 179 204 238 279 284]\n",
      "min position in array 9\n",
      "max position in array 0\n"
     ]
    }
   ],
   "source": [
    "var = np.random.randint(1, 49, 10)\n",
    "\n",
    "print(var)\n",
    "print(\"min: \", np.min(var))\n",
    "print(\"max: \", np.max(var))\n",
    "print(\"sqrt: \", np.sqrt(var))\n",
    "print(\"Sin: \", np.sin(var))\n",
    "print(\"Cos: \", np.cos(var))\n",
    "print(\"cumSum: \", np.cumsum(var))\n",
    "print(\"min position in array\", np.argmin(var))\n",
    "print(\"max position in array\", np.argmax(var))"
   ]
  },
  {
   "cell_type": "code",
   "execution_count": 19,
   "id": "f9c3f900",
   "metadata": {},
   "outputs": [
    {
     "name": "stdout",
     "output_type": "stream",
     "text": [
      "[1 4 2]\n"
     ]
    }
   ],
   "source": [
    "var1 = np.array([[3,4,2],[1,7,4]])\n",
    "\n",
    "print(np.min(var1, axis = 0))"
   ]
  },
  {
   "cell_type": "code",
   "execution_count": null,
   "id": "8e64da15",
   "metadata": {},
   "outputs": [],
   "source": []
  }
 ],
 "metadata": {
  "kernelspec": {
   "display_name": "Python 3 (ipykernel)",
   "language": "python",
   "name": "python3"
  },
  "language_info": {
   "codemirror_mode": {
    "name": "ipython",
    "version": 3
   },
   "file_extension": ".py",
   "mimetype": "text/x-python",
   "name": "python",
   "nbconvert_exporter": "python",
   "pygments_lexer": "ipython3",
   "version": "3.10.1"
  }
 },
 "nbformat": 4,
 "nbformat_minor": 5
}
