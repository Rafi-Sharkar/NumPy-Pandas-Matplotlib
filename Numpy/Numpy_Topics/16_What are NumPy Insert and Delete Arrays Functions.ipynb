{
 "cells": [
  {
   "cell_type": "markdown",
   "id": "6307a509",
   "metadata": {},
   "source": [
    "# Insert and Delete Fucntion"
   ]
  },
  {
   "cell_type": "markdown",
   "id": "4d89ea3a",
   "metadata": {},
   "source": [
    "### Insert"
   ]
  },
  {
   "cell_type": "code",
   "execution_count": 18,
   "id": "82969a8a",
   "metadata": {},
   "outputs": [
    {
     "ename": "ModuleNotFoundError",
     "evalue": "No module named 'pands'",
     "output_type": "error",
     "traceback": [
      "\u001b[1;31m---------------------------------------------------------------------------\u001b[0m",
      "\u001b[1;31mModuleNotFoundError\u001b[0m                       Traceback (most recent call last)",
      "Cell \u001b[1;32mIn[18], line 2\u001b[0m\n\u001b[0;32m      1\u001b[0m \u001b[38;5;28;01mimport\u001b[39;00m \u001b[38;5;21;01mnumpy\u001b[39;00m \u001b[38;5;28;01mas\u001b[39;00m \u001b[38;5;21;01mnp\u001b[39;00m\n\u001b[1;32m----> 2\u001b[0m \u001b[38;5;28;01mimport\u001b[39;00m \u001b[38;5;21;01mpands\u001b[39;00m \u001b[38;5;28;01mas\u001b[39;00m \u001b[38;5;21;01mpd\u001b[39;00m\n",
      "\u001b[1;31mModuleNotFoundError\u001b[0m: No module named 'pands'"
     ]
    }
   ],
   "source": [
    "import numpy as np"
   ]
  },
  {
   "cell_type": "code",
   "execution_count": 7,
   "id": "b279f53d",
   "metadata": {},
   "outputs": [
    {
     "name": "stdout",
     "output_type": "stream",
     "text": [
      "[ 1  2  3  4  6 89  2  0]\n",
      "<class 'numpy.ndarray'>\n",
      "[ 1  2 40  3  4 40  6 89  2  0]\n"
     ]
    }
   ],
   "source": [
    "a = np.array([1,2,3,4,6,89,2,0])\n",
    "\n",
    "print(a)\n",
    "print(type(a))\n",
    "\n",
    "# np.insert(array, index, data)\n",
    "\n",
    "x1 = np.insert(a, (2,4), 40)\n",
    "print(x1)"
   ]
  },
  {
   "cell_type": "code",
   "execution_count": 13,
   "id": "ce62bdcf",
   "metadata": {},
   "outputs": [
    {
     "name": "stdout",
     "output_type": "stream",
     "text": [
      "[[ 1  2  5  3  4]\n",
      " [ 6 89  3  2  0]]\n"
     ]
    }
   ],
   "source": [
    "b = np.array([[1,2,3,4],[6,89,2,0]])\n",
    "bi=np.insert(b,2,[5,3],axis=1)\n",
    "\n",
    "print(bi)"
   ]
  },
  {
   "cell_type": "code",
   "execution_count": 25,
   "id": "5b1797fd",
   "metadata": {},
   "outputs": [
    {
     "name": "stdout",
     "output_type": "stream",
     "text": [
      "[ 1.   2.   3.   4.   6.  89.   2.   0.   5.7]\n"
     ]
    }
   ],
   "source": [
    "b = np.array([[1,2,3,4],[6,89,2,0]])\n",
    "x2 = np.append(b, 5.7)\n",
    "print(x2)"
   ]
  },
  {
   "cell_type": "code",
   "execution_count": null,
   "id": "df235dd5",
   "metadata": {},
   "outputs": [],
   "source": [
    " "
   ]
  }
 ],
 "metadata": {
  "kernelspec": {
   "display_name": "Python 3 (ipykernel)",
   "language": "python",
   "name": "python3"
  },
  "language_info": {
   "codemirror_mode": {
    "name": "ipython",
    "version": 3
   },
   "file_extension": ".py",
   "mimetype": "text/x-python",
   "name": "python",
   "nbconvert_exporter": "python",
   "pygments_lexer": "ipython3",
   "version": "3.10.1"
  }
 },
 "nbformat": 4,
 "nbformat_minor": 5
}
