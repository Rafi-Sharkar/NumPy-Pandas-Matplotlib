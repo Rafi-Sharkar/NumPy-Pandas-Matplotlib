{
 "cells": [
  {
   "cell_type": "markdown",
   "id": "dabf872e",
   "metadata": {},
   "source": [
    "# Data Types NumPy Arrays\n",
    "\n",
    "#### Sr.N.       ||   \tData       ||          Types   Description\n",
    "1\t||      bool_       ||         Boolean (True or False) stored as a byte\n",
    "\n",
    "2\t  ||    int_        ||         Default integer type (same as C long; normally either int64 or int32)\n",
    "\n",
    "3\t    ||  intc         ||        Identical to C int (normally int32 or int64)\n",
    "\n",
    "4\t      || intp        ||         Integer used for indexing (same as C ssize_t; normally either int32 or int64)\n",
    "\n",
    "5\t ||     int8        ||         Byte (-128 to 127)\n",
    "\n",
    "6\t   ||   int16     ||           Integer (-32768 to 32767)\n",
    "\n",
    "7\t     || int32      ||          Integer (-2147483648 to 2147483647)\n",
    "\n",
    "8 ||\t      int64       ||         Integer (-9223372036854775808 to 9223372036854775807)\n",
    "\n",
    "9\t||      uint8        ||        Unsigned integer (0 to 255)\n",
    "\n",
    "10\t  ||    uint16       ||        Unsigned integer (0 to 65535)\n",
    "\n",
    "11\t    ||  uint32       ||        Unsigned integer (0 to 4294967295)\n",
    "\n",
    "12\t      || uint64       ||        Unsigned integer (0 to 18446744073709551615)\n",
    "\n",
    "13 ||\t      float_       ||        Shorthand for float64\n",
    "\n",
    "14\t||      float16      ||        Half precision float: sign bit, 5 bits exponent, 10 bits mantissa\n",
    "\n",
    "15\t  ||    float32    ||          Single precision float: sign bit, 8 bits exponent, 23 bits mantissa\n",
    "\n",
    "16\t    ||  float64      ||        Double precision float: sign bit, 11 bits exponent, 52 bits mantissa\n",
    "\n",
    "17\t      || complex_      ||       Shorthand for complex128\n",
    "\n",
    "18 ||\t      complex64      ||      Complex number, represented by two 32-bit floats (real and imaginary components)\n",
    "\n",
    "19  ||      complex128        ||         Complex number, represented by two 64-bit floats (real and imaginary components)"
   ]
  },
  {
   "cell_type": "markdown",
   "id": "fec09a26",
   "metadata": {},
   "source": [
    "## Short represention"
   ]
  },
  {
   "cell_type": "markdown",
   "id": "82e7d4a0",
   "metadata": {},
   "source": [
    "'b' − boolean\n",
    "\n",
    "'i' − (signed) integer\n",
    "\n",
    "'u' − unsigned integer\n",
    "\n",
    "'f' − floating-point\n",
    "\n",
    "'c' − complex-floating point\n",
    "\n",
    "'m' − timedelta\n",
    "\n",
    "'M' − datetime\n",
    "\n",
    "'O' − (Python) objects\n",
    "\n",
    "'S', 'a' − (byte-)string\n",
    "\n",
    "'U' − Unicode\n",
    "\n",
    "'V' − raw data (void)"
   ]
  },
  {
   "cell_type": "markdown",
   "id": "493750fe",
   "metadata": {},
   "source": [
    "## Data type"
   ]
  },
  {
   "cell_type": "code",
   "execution_count": 18,
   "id": "1b6046f3",
   "metadata": {},
   "outputs": [],
   "source": [
    "import numpy as np"
   ]
  },
  {
   "cell_type": "code",
   "execution_count": 19,
   "id": "35bc8d0e",
   "metadata": {},
   "outputs": [
    {
     "name": "stdout",
     "output_type": "stream",
     "text": [
      "Data type:  int32\n"
     ]
    }
   ],
   "source": [
    "var = np.array([1,2,3,4])\n",
    "\n",
    "print(\"Data type: \",var.dtype)"
   ]
  },
  {
   "cell_type": "code",
   "execution_count": 20,
   "id": "c44eb0c7",
   "metadata": {},
   "outputs": [
    {
     "name": "stdout",
     "output_type": "stream",
     "text": [
      "Data type:  float64\n"
     ]
    }
   ],
   "source": [
    "var1 = np.array([1.2,2,3.4,4])\n",
    "\n",
    "print(\"Data type: \",var1.dtype)"
   ]
  },
  {
   "cell_type": "code",
   "execution_count": 21,
   "id": "f721cbc1",
   "metadata": {},
   "outputs": [
    {
     "name": "stdout",
     "output_type": "stream",
     "text": [
      "Data type:  <U1\n"
     ]
    }
   ],
   "source": [
    "var2 = np.array([\"a\", \"B\", \"&\", \"2\"])\n",
    "\n",
    "print(\"Data type: \",var2.dtype)"
   ]
  },
  {
   "cell_type": "code",
   "execution_count": 22,
   "id": "480f6dc9",
   "metadata": {},
   "outputs": [
    {
     "name": "stdout",
     "output_type": "stream",
     "text": [
      "Data type:  <U11\n"
     ]
    }
   ],
   "source": [
    "var3 = np.array([\"a\", \"B\", \"&\", \"2\", 1, 5, 8])\n",
    "\n",
    "print(\"Data type: \",var3.dtype)"
   ]
  },
  {
   "cell_type": "code",
   "execution_count": 32,
   "id": "c9e4c7ec",
   "metadata": {},
   "outputs": [
    {
     "name": "stdout",
     "output_type": "stream",
     "text": [
      "int32\n"
     ]
    }
   ],
   "source": [
    "x = np.array([1,2,3,4])\n",
    "print(x.dtype)\n"
   ]
  },
  {
   "cell_type": "code",
   "execution_count": 34,
   "id": "74f32f94",
   "metadata": {},
   "outputs": [
    {
     "name": "stdout",
     "output_type": "stream",
     "text": [
      "int8\n"
     ]
    }
   ],
   "source": [
    "y = np.array([1,2,3,4], dtype = np.int8)\n",
    "print(y.dtype)\n"
   ]
  },
  {
   "cell_type": "code",
   "execution_count": 36,
   "id": "5d779636",
   "metadata": {},
   "outputs": [
    {
     "name": "stdout",
     "output_type": "stream",
     "text": [
      "float32\n"
     ]
    }
   ],
   "source": [
    "z = np.array([1,2,3,4], dtype = \"f\")\n",
    "print(z.dtype)\n"
   ]
  },
  {
   "cell_type": "code",
   "execution_count": 38,
   "id": "662ec854",
   "metadata": {},
   "outputs": [
    {
     "name": "stdout",
     "output_type": "stream",
     "text": [
      "int32\n",
      "float32\n"
     ]
    }
   ],
   "source": [
    "a = np.array([1,2,3,4])\n",
    "new = np.float32(a)\n",
    "\n",
    "print(a.dtype)\n",
    "print(new.dtype)"
   ]
  },
  {
   "cell_type": "code",
   "execution_count": 39,
   "id": "19c1968f",
   "metadata": {},
   "outputs": [
    {
     "name": "stdout",
     "output_type": "stream",
     "text": [
      "[1 2 3 4]\n",
      "[1. 2. 3. 4.]\n"
     ]
    }
   ],
   "source": [
    "a1 = np.array([1,2,3,4])\n",
    "new_1 = a1.astype(float)\n",
    "\n",
    "print(a1)\n",
    "print(new_1)"
   ]
  }
 ],
 "metadata": {
  "kernelspec": {
   "display_name": "Python 3 (ipykernel)",
   "language": "python",
   "name": "python3"
  },
  "language_info": {
   "codemirror_mode": {
    "name": "ipython",
    "version": 3
   },
   "file_extension": ".py",
   "mimetype": "text/x-python",
   "name": "python",
   "nbconvert_exporter": "python",
   "pygments_lexer": "ipython3",
   "version": "3.10.1"
  }
 },
 "nbformat": 4,
 "nbformat_minor": 5
}
