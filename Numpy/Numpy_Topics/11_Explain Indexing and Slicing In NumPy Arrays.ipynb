{
 "cells": [
  {
   "cell_type": "markdown",
   "id": "0b3767bd",
   "metadata": {},
   "source": [
    "# Indexing NumPy Arrays"
   ]
  },
  {
   "cell_type": "code",
   "execution_count": 2,
   "id": "faeb3057",
   "metadata": {},
   "outputs": [],
   "source": [
    "import numpy as np"
   ]
  },
  {
   "cell_type": "code",
   "execution_count": 4,
   "id": "143799cd",
   "metadata": {},
   "outputs": [
    {
     "name": "stdout",
     "output_type": "stream",
     "text": [
      "9\n",
      "6\n"
     ]
    }
   ],
   "source": [
    "x = np.array([3,4,6,9])\n",
    "#  positive   0,1,2,3\n",
    "#  negetive -4,-3,-2,-1\n",
    "\n",
    "print(x[3])\n",
    "print(x[-2])\n"
   ]
  },
  {
   "cell_type": "code",
   "execution_count": 6,
   "id": "fbcede34",
   "metadata": {},
   "outputs": [
    {
     "name": "stdout",
     "output_type": "stream",
     "text": [
      "[[8 6 5]\n",
      " [1 2 3]]\n",
      "2\n"
     ]
    }
   ],
   "source": [
    "y = np.array([[8,6,5],[1,2,3]])\n",
    "\n",
    "print(y)\n",
    "print(y.ndim)"
   ]
  },
  {
   "cell_type": "code",
   "execution_count": 29,
   "id": "0d871d3a",
   "metadata": {},
   "outputs": [
    {
     "name": "stdout",
     "output_type": "stream",
     "text": [
      "[[1 2 3]\n",
      " [5 6 7]]\n",
      "6\n"
     ]
    }
   ],
   "source": [
    "z = np.array([[1,2,3],[5,6,7]])\n",
    "\n",
    "print(z)\n",
    "print(z[1,1])"
   ]
  },
  {
   "cell_type": "markdown",
   "id": "ba0a9f81",
   "metadata": {},
   "source": [
    "# Slicing NumPy Arrays\n",
    "\n",
    "##### x = [1,2,3,4,] \n",
    "##### x[start:stop:step]"
   ]
  },
  {
   "cell_type": "code",
   "execution_count": 24,
   "id": "edc85a3d",
   "metadata": {},
   "outputs": [
    {
     "name": "stdout",
     "output_type": "stream",
     "text": [
      "[1 2 3 4 5 6 7]\n",
      "\n",
      "2 to 5: [2 4]\n",
      "2 to end [2 3 4 5 6 7]\n",
      "start to 5: [1 2 3 4 5]\n",
      "step: [1 4 7]\n"
     ]
    }
   ],
   "source": [
    "a = np.array([1,2,3,4,5,6,7])\n",
    "# index       0,1,2,3,4,5,6\n",
    "\n",
    "print(a)\n",
    "print()\n",
    "print(\"2 to 5:\", a[1:5:2])\n",
    "print(\"2 to end\", a[1:])\n",
    "print(\"start to 5:\", a[:5])\n",
    "print(\"step:\", a[::3])"
   ]
  },
  {
   "cell_type": "code",
   "execution_count": null,
   "id": "5b3c5176",
   "metadata": {},
   "outputs": [],
   "source": []
  }
 ],
 "metadata": {
  "kernelspec": {
   "display_name": "Python 3 (ipykernel)",
   "language": "python",
   "name": "python3"
  },
  "language_info": {
   "codemirror_mode": {
    "name": "ipython",
    "version": 3
   },
   "file_extension": ".py",
   "mimetype": "text/x-python",
   "name": "python",
   "nbconvert_exporter": "python",
   "pygments_lexer": "ipython3",
   "version": "3.10.1"
  }
 },
 "nbformat": 4,
 "nbformat_minor": 5
}
