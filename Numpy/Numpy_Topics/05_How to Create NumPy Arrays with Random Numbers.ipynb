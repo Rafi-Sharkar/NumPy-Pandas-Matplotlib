{
 "cells": [
  {
   "cell_type": "markdown",
   "id": "fdb5d54b",
   "metadata": {},
   "source": [
    "# ---Create NumPy Array with Random Number---"
   ]
  },
  {
   "cell_type": "markdown",
   "id": "978e35b9",
   "metadata": {},
   "source": [
    "## Random \n",
    "### rand():The function is used to generate a random value between 0 t 1"
   ]
  },
  {
   "cell_type": "code",
   "execution_count": 7,
   "id": "93d87772",
   "metadata": {},
   "outputs": [],
   "source": [
    "import numpy as np"
   ]
  },
  {
   "cell_type": "code",
   "execution_count": 8,
   "id": "a1ec91eb",
   "metadata": {},
   "outputs": [
    {
     "name": "stdout",
     "output_type": "stream",
     "text": [
      "[0.09100686 0.64264568 0.13515339 0.81229788]\n"
     ]
    }
   ],
   "source": [
    "var = np.random.rand(4)   # random number will be in 0 to 1\n",
    "\n",
    "print(var)"
   ]
  },
  {
   "cell_type": "code",
   "execution_count": 9,
   "id": "7052ec74",
   "metadata": {
    "scrolled": true
   },
   "outputs": [
    {
     "name": "stdout",
     "output_type": "stream",
     "text": [
      "[[0.13082997 0.41675064 0.37589041 0.06376294 0.86456386]\n",
      " [0.44426163 0.22137705 0.86175902 0.99827227 0.14068798]]\n"
     ]
    }
   ],
   "source": [
    "var1 = np.random.rand(2,5) \n",
    "\n",
    "print(var1)"
   ]
  },
  {
   "cell_type": "markdown",
   "id": "0395a931",
   "metadata": {},
   "source": [
    "### -- randn(): The function is used to generate a random value close to zero. This may return positive or negative numbers as well."
   ]
  },
  {
   "cell_type": "code",
   "execution_count": 14,
   "id": "d15c5f2a",
   "metadata": {},
   "outputs": [
    {
     "name": "stdout",
     "output_type": "stream",
     "text": [
      "[-1.60007186 -1.03172431  0.42197123 -0.32152775  0.14483737]\n"
     ]
    }
   ],
   "source": [
    "var2 = np.random.randn(5)\n",
    "\n",
    "print(var2)"
   ]
  },
  {
   "cell_type": "markdown",
   "id": "d15d688d",
   "metadata": {},
   "source": [
    "### -- ranf(): The function for doing random sampling in numpy. It returns an array of specified shape and fills it with random floats in the half open interval [0.0, 1.0)"
   ]
  },
  {
   "cell_type": "code",
   "execution_count": 16,
   "id": "e01700e4",
   "metadata": {},
   "outputs": [
    {
     "name": "stdout",
     "output_type": "stream",
     "text": [
      "[0.7076749  0.12312937 0.52525608 0.6916701 ]\n"
     ]
    }
   ],
   "source": [
    "var3 = np.random.ranf(4)\n",
    "\n",
    "print(var3)"
   ]
  },
  {
   "cell_type": "markdown",
   "id": "0ad36095",
   "metadata": {},
   "source": [
    "### -- randint(): The function is used to generate a random number between a given range."
   ]
  },
  {
   "cell_type": "code",
   "execution_count": 40,
   "id": "eca5343c",
   "metadata": {},
   "outputs": [
    {
     "name": "stdout",
     "output_type": "stream",
     "text": [
      "[16 15 15 14 16 15 16 16 16 16 16 15 15]\n"
     ]
    }
   ],
   "source": [
    "# randint_array = np.random.randint(min, max, total value)\n",
    "\n",
    "var4 = np.random.randint(14, 19, 13)\n",
    "\n",
    "print(var4)"
   ]
  }
 ],
 "metadata": {
  "kernelspec": {
   "display_name": "Python 3 (ipykernel)",
   "language": "python",
   "name": "python3"
  },
  "language_info": {
   "codemirror_mode": {
    "name": "ipython",
    "version": 3
   },
   "file_extension": ".py",
   "mimetype": "text/x-python",
   "name": "python",
   "nbconvert_exporter": "python",
   "pygments_lexer": "ipython3",
   "version": "3.10.1"
  }
 },
 "nbformat": 4,
 "nbformat_minor": 5
}
