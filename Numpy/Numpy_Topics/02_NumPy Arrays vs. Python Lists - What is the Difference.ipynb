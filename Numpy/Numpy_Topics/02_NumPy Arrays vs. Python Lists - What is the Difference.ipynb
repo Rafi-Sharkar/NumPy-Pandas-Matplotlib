{
 "cells": [
  {
   "cell_type": "code",
   "execution_count": 2,
   "id": "d76898ae",
   "metadata": {},
   "outputs": [
    {
     "name": "stdout",
     "output_type": "stream",
     "text": [
      "2.68 µs ± 45.6 ns per loop (mean ± std. dev. of 7 runs, 100,000 loops each)\n"
     ]
    }
   ],
   "source": [
    "%timeit [j**4 for j in range(1, 8)]"
   ]
  },
  {
   "cell_type": "code",
   "execution_count": 10,
   "id": "58e3cc0a",
   "metadata": {},
   "outputs": [
    {
     "name": "stdout",
     "output_type": "stream",
     "text": [
      "3.58 µs ± 45.8 ns per loop (mean ± std. dev. of 7 runs, 100,000 loops each)\n"
     ]
    }
   ],
   "source": [
    "import numpy as np\n",
    "\n",
    "%timeit np.arange(1, 9)**4"
   ]
  }
 ],
 "metadata": {
  "kernelspec": {
   "display_name": "Python 3 (ipykernel)",
   "language": "python",
   "name": "python3"
  },
  "language_info": {
   "codemirror_mode": {
    "name": "ipython",
    "version": 3
   },
   "file_extension": ".py",
   "mimetype": "text/x-python",
   "name": "python",
   "nbconvert_exporter": "python",
   "pygments_lexer": "ipython3",
   "version": "3.10.1"
  }
 },
 "nbformat": 4,
 "nbformat_minor": 5
}
