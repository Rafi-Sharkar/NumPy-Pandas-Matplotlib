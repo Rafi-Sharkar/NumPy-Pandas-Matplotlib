{
 "cells": [
  {
   "cell_type": "markdown",
   "id": "08b041df",
   "metadata": {},
   "source": [
    "# Arithmetic Operation in NumPy Arrays"
   ]
  },
  {
   "cell_type": "markdown",
   "id": "7c6e66f2",
   "metadata": {},
   "source": [
    "####  a+b = np.add(a,b)\n",
    "####  a-b = np.subtract(a,b)\n",
    "####  a*b = np.multiply(a,b)\n",
    "####  a/b = np.divide(a,b)\n",
    "####  a%b = np.mod(a,b)\n",
    "####  a**b = np.power(a,b)\n",
    "####  1/a = np.reciprocal(a)"
   ]
  },
  {
   "cell_type": "code",
   "execution_count": 3,
   "id": "0f5b3ff1",
   "metadata": {},
   "outputs": [
    {
     "name": "stdout",
     "output_type": "stream",
     "text": [
      "[4 5 6 7]\n"
     ]
    }
   ],
   "source": [
    "import numpy as np\n",
    "\n",
    "var = np.array([1,2,3,4])\n",
    "\n",
    "varadd = var + 3\n",
    "\n",
    "print(varadd)"
   ]
  },
  {
   "cell_type": "code",
   "execution_count": 5,
   "id": "62e11214",
   "metadata": {},
   "outputs": [
    {
     "name": "stdout",
     "output_type": "stream",
     "text": [
      "[2 4 6 8]\n"
     ]
    }
   ],
   "source": [
    "var1 = np.array([1,2,3,4])\n",
    "var2 = np.array([1,2,3,4])\n",
    "\n",
    "varadd1 = var1 + var2\n",
    "print(varadd1)"
   ]
  },
  {
   "cell_type": "code",
   "execution_count": 7,
   "id": "184fdd00",
   "metadata": {},
   "outputs": [
    {
     "name": "stdout",
     "output_type": "stream",
     "text": [
      "[ 7. 10. 11. 33.]\n"
     ]
    }
   ],
   "source": [
    "var3 = np.array([21, 30, 33, 99])\n",
    "\n",
    "varsub = var3 / 3\n",
    "\n",
    "print(varsub)"
   ]
  },
  {
   "cell_type": "code",
   "execution_count": 9,
   "id": "e47c4260",
   "metadata": {},
   "outputs": [
    {
     "name": "stdout",
     "output_type": "stream",
     "text": [
      "[1 0 3 4]\n"
     ]
    }
   ],
   "source": [
    "var4 = np.array([21, 30, 33, 99])\n",
    "\n",
    "varmod = var4 % 5\n",
    "print(varmod)"
   ]
  },
  {
   "cell_type": "code",
   "execution_count": 11,
   "id": "a9c6de59",
   "metadata": {},
   "outputs": [
    {
     "name": "stdout",
     "output_type": "stream",
     "text": [
      "[  4   9 169  81]\n"
     ]
    }
   ],
   "source": [
    "var5 = np.array([2, 3, 13, 9])\n",
    "\n",
    "varpow = var5 ** 2\n",
    "print(varpow)"
   ]
  },
  {
   "cell_type": "markdown",
   "id": "ef162274",
   "metadata": {},
   "source": [
    "## 2-D Array"
   ]
  },
  {
   "cell_type": "code",
   "execution_count": 12,
   "id": "71be542c",
   "metadata": {},
   "outputs": [
    {
     "name": "stdout",
     "output_type": "stream",
     "text": [
      "[[1 9 5 9]\n",
      " [9 5 8 9]]\n"
     ]
    }
   ],
   "source": [
    "var6 = np.array([[1,2,3,4],[4,3,4,1]])\n",
    "var7 = np.array([[0,7,2,5],[5,2,4,8]])\n",
    "\n",
    "varadd2 = var6 + var7\n",
    "print(varadd2)"
   ]
  }
 ],
 "metadata": {
  "kernelspec": {
   "display_name": "Python 3 (ipykernel)",
   "language": "python",
   "name": "python3"
  },
  "language_info": {
   "codemirror_mode": {
    "name": "ipython",
    "version": 3
   },
   "file_extension": ".py",
   "mimetype": "text/x-python",
   "name": "python",
   "nbconvert_exporter": "python",
   "pygments_lexer": "ipython3",
   "version": "3.10.1"
  }
 },
 "nbformat": 4,
 "nbformat_minor": 5
}
